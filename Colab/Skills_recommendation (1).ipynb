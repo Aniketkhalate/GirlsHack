{
  "nbformat": 4,
  "nbformat_minor": 0,
  "metadata": {
    "colab": {
      "provenance": []
    },
    "kernelspec": {
      "name": "python3",
      "display_name": "Python 3"
    },
    "language_info": {
      "name": "python"
    }
  },
  "cells": [
    {
      "cell_type": "code",
      "execution_count": 27,
      "metadata": {
        "id": "WZxRv_SJN282"
      },
      "outputs": [],
      "source": [
        "# Import the Python SDK\n",
        "import google.generativeai as genai\n",
        "# Used to securely store your API key\n",
        "from google.colab import userdata\n",
        "\n",
        "GOOGLE_API_KEY=userdata.get('Gemini')\n",
        "genai.configure(api_key=GOOGLE_API_KEY)"
      ]
    },
    {
      "cell_type": "code",
      "source": [
        "model = genai.GenerativeModel(\"gemini-1.5-flash\")"
      ],
      "metadata": {
        "id": "KYCrZb9QO_zJ"
      },
      "execution_count": 28,
      "outputs": []
    },
    {
      "cell_type": "code",
      "source": [
        "response = model.generate_content(\"Write a story about a magic backpack.\")\n",
        "print(response.text)"
      ],
      "metadata": {
        "colab": {
          "base_uri": "https://localhost:8080/",
          "height": 517
        },
        "id": "XtDFhlmQPDIs",
        "outputId": "ec4485e3-2dc4-4bd6-d878-0cc418f94b2d"
      },
      "execution_count": 29,
      "outputs": [
        {
          "output_type": "stream",
          "name": "stdout",
          "text": [
            "Elara was never one for fancy clothes. Her life, spent in the dusty, sun-scorched town of Sunstone, was all about practicality. So, when a traveling merchant offered her a peculiar, worn backpack for a few silver coins, she didn’t hesitate. It was a bargain, even if it smelled faintly of pine needles and cinnamon.\n",
            "\n",
            "The backpack was heavier than it looked, but Elara was strong. She carried it to her small, ramshackle house,  and after a quick dinner of dusty bread and dried fruit, she decided to explore its contents. She fumbled with the worn leather straps, expecting to find some old clothes or a few dusty tools. \n",
            "\n",
            "What she found was a shock.\n",
            "\n",
            "Instead of clothes, the backpack held a swirling vortex of shimmering light. Elara gasped and backed away. The light pulsed, then slowly, a single, perfect, red apple appeared. She reached out, mesmerized, and plucked it from the air. It was cool and smooth in her hand, its skin gleaming like a ruby.\n",
            "\n",
            "That night, Elara ate the apple, savoring its sweet, heady aroma. It was the most delicious thing she had ever tasted. And then, something strange happened. She felt a surge of energy, a newfound strength and clarity. \n",
            "\n",
            "The next day, Elara returned to the dusty marketplace. She had always been content with her life, but now, she felt a burning desire to do something more. She noticed a small, frightened girl trying to sell a few wilted flowers. \n",
            "\n",
            "\"Here, take this,\" Elara said, pulling a vibrant, fragrant rose from the swirling light in her backpack. The girl gasped, and Elara watched her face light up with joy. \n",
            "\n",
            "Over the next few days, Elara used the backpack’s magic to help the people of Sunstone. She brought fresh water to the parched fields, gave warm bread to the hungry, and mended broken fences with a touch of her hand. \n",
            "\n",
            "News of her kindness and the backpack’s magic spread like wildfire. Soon, people from neighboring villages started arriving, hoping to receive some of the magic. Elara, once a simple farm girl, became known as the \"Keeper of the Backpack,\" a beacon of hope in their dusty, forgotten world.\n",
            "\n",
            "However, with great power came great responsibility. Elara soon realized the magic was not endless. It was fueled by her own energy and goodness. When she was tired or felt discouraged, the backpack’s magic faltered.\n",
            "\n",
            "One day, a man arrived with a desperate plea. His wife was gravely ill, and there was no cure. Elara, despite her weariness, felt a surge of compassion and decided to help. But as she reached for the swirling light, it went dark. \n",
            "\n",
            "Dejected, Elara realized the magic was not her own. It was a gift, a reminder that true magic comes from kindness and compassion, not from an enchanted object. She turned to the man and said, \"I cannot heal your wife with this backpack, but I will stay with you, and together, we will find a way.\"\n",
            "\n",
            "And so, Elara, the Keeper of the Backpack, learned the true magic of kindness and the strength that comes from sharing the burden of others. The backpack remained a symbol of hope, but Elara learned that the real magic resided in the heart of a compassionate soul. And that was a magic that could never be exhausted. \n",
            "\n"
          ]
        }
      ]
    },
    {
      "cell_type": "code",
      "source": [
        "pip install pdfminer.six python-docx"
      ],
      "metadata": {
        "colab": {
          "base_uri": "https://localhost:8080/"
        },
        "id": "vZQaF1DvPI-R",
        "outputId": "a6113a5f-557b-4305-a80c-5968b0f9ac42"
      },
      "execution_count": 30,
      "outputs": [
        {
          "output_type": "stream",
          "name": "stdout",
          "text": [
            "Requirement already satisfied: pdfminer.six in /usr/local/lib/python3.10/dist-packages (20240706)\n",
            "Requirement already satisfied: python-docx in /usr/local/lib/python3.10/dist-packages (1.1.2)\n",
            "Requirement already satisfied: charset-normalizer>=2.0.0 in /usr/local/lib/python3.10/dist-packages (from pdfminer.six) (3.3.2)\n",
            "Requirement already satisfied: cryptography>=36.0.0 in /usr/local/lib/python3.10/dist-packages (from pdfminer.six) (43.0.1)\n",
            "Requirement already satisfied: lxml>=3.1.0 in /usr/local/lib/python3.10/dist-packages (from python-docx) (4.9.4)\n",
            "Requirement already satisfied: typing-extensions>=4.9.0 in /usr/local/lib/python3.10/dist-packages (from python-docx) (4.12.2)\n",
            "Requirement already satisfied: cffi>=1.12 in /usr/local/lib/python3.10/dist-packages (from cryptography>=36.0.0->pdfminer.six) (1.17.1)\n",
            "Requirement already satisfied: pycparser in /usr/local/lib/python3.10/dist-packages (from cffi>=1.12->cryptography>=36.0.0->pdfminer.six) (2.22)\n"
          ]
        }
      ]
    },
    {
      "cell_type": "code",
      "source": [
        "import os\n",
        "import pdfminer\n",
        "import pdfminer.high_level\n",
        "from pdfminer.high_level import extract_text\n",
        "from docx import Document\n",
        "\n",
        "def extract_text_from_pdf(pdf_path):\n",
        "    return extract_text(pdf_path)\n",
        "\n",
        "def extract_text_from_docx(docx_path):\n",
        "    doc = Document(docx_path)\n",
        "    return '\\n'.join([para.text for para in doc.paragraphs])\n",
        "\n",
        "def extract_text_from_file(file_path):\n",
        "    _, ext = os.path.splitext(file_path)\n",
        "    if ext.lower() == '.pdf':\n",
        "        return extract_text_from_pdf(file_path)\n",
        "    elif ext.lower() == '.docx':\n",
        "        return extract_text_from_docx(file_path)\n",
        "    else:\n",
        "        raise ValueError(\"Unsupported file format\")\n",
        "\n",
        "\n",
        "if __name__ == \"__main__\":\n",
        "    file_path = './Resume.pdf'\n",
        "    try:\n",
        "        text = extract_text_from_file(file_path)\n",
        "        print(text)\n",
        "    except Exception as e:\n",
        "        print(f\"An error occurred: {e}\")"
      ],
      "metadata": {
        "colab": {
          "base_uri": "https://localhost:8080/"
        },
        "id": "tEUE02beRHcy",
        "outputId": "22fb8cd6-e3f8-4119-bd1f-1d053abac71a"
      },
      "execution_count": 31,
      "outputs": [
        {
          "output_type": "stream",
          "name": "stdout",
          "text": [
            "MIHIR SHAKYARATAN KADAM \n",
            "\n",
            "+1(862)279-2555  +919819758408 \n",
            "\n",
            "mihirkadam85@yahoo.in   \n",
            "\n",
            "LinkedIn \n",
            "\n",
            "Newark, New Jersey, United States of America \n",
            "\n",
            "ABOUT ME \n",
            "Results-driven DevOps specialist with over a year of hands-on experience and a solid background in software development, particularly in Django and \n",
            "Data Science. Currently pursuing a Master’s in Computer Science at New Jersey Institute of Technology. Skilled in scripting, automation, infrastructure \n",
            "management, and cloud technologies, with expertise in CI/CD pipelines. Proven in integrating development and operations to optimize workflows and \n",
            "enhance project efficiency. Seeking to leverage strong communication skills and a passion for continuous learning in a dynamic DevOps environment. \n",
            "\n",
            "Cloud Computing (AWS, Google Cloud, Azure) \n",
            "Continuous Integration & Continuous Delivery  (GitHub Actions, Gitlab CI) \n",
            "Infrastructure as a Code and Automation (CloudFormation, Terraform) \n",
            "\n",
            "Python Programming and Scripting (Shell Scripting, Bash)  \n",
            "Django and REST API development (Python, SQL) \n",
            "Container Orchestrations (e.g. Kubernetes, Docker, EKS, GKE) \n",
            "\n",
            "STRENGTHS AND EXPERTISE \n",
            "\n",
            "PROFESSIONAL EXPERIENCE \n",
            "\n",
            "Associate Cloud Engineer \n",
            "\n",
            "Pentagon System and Services \n",
            "\n",
            "Jan 2023  -  Jan 2024 \n",
            "\n",
            "Mumbai, India \n",
            "\n",
            "•  Demonstrated proficiency by acquiring The Amazon Web Services Certified DevOps Engineer - Professional \n",
            "•  Achieved the prestigious AWS DevOps competency, recognizing advanced technical skills and proven success in delivering DevOps practices on AWS \n",
            "•  Earned AWS CloudFront Service Delivery Recognition, signifying proficiency in optimizing content delivery and enhancing web application \n",
            "\n",
            "performance within the AWS ecosystem \n",
            "\n",
            "•  Facilitated with  the Best New Comer MSP Team Award for exceptional performance in projects that showcased team collaboration and innovation \n",
            "Projects: \n",
            "•  Spearheaded the deployment of microservices on Amazon ECS, orchestrating a CI/CD pipeline with AWS CodeCommit, CodeBuild, and ECR, reducing \n",
            "\n",
            "deployment time to 3-5 minutes per microservice \n",
            "\n",
            "•  Deployed scalable Kubernetes infrastructure with 10+ microservices and 9 micro-frontend architecture in GKE Goole Cloud, developing dedicated \n",
            "\n",
            "Helm charts and integrating the cluster with GitHub Actions for CI/CD. \n",
            "\n",
            "•  Engineered an AWS EKS solution with Jenkins Pipeline and Amazon Elastic File System integration for up to 10  different pods \n",
            "•  Guided migration of Docker Compose deployment from Azure to AWS with partial CI/CD implementation using GitTea and Docker, managing 3 \n",
            "\n",
            "containers in the process \n",
            "\n",
            "•  Designed a comprehensive CI/CD solution for 6 applications on AWS, deploying backends to EC2 and frontends to S3 \n",
            "•  Streamlined deployment processes by creating a CloudFormation Template for Infrastructure as Code, enabling swift deployment of EC2 servers for \n",
            "\n",
            "MongoDB, RabbitMQ, Hangfire, and Jenkins, and AWS EKS significantly reducing deployment time to 40 minutes. \n",
            "\n",
            "•  Formed multiple Terraform and Python scripts to deploy resources in GCP for an Internal Hackathon for over 100 Teams \n",
            "•  Administered development of Python scripts to automate zipping large backup files and uploading them to S3, generating custom metrics for the \n",
            "\n",
            "process. Deployed the script on 10+ on-prem servers with customizations and visualized metrics in Amazon QuickSight \n",
            "\n",
            "•  Devised a Python script to transfer incremental backups from Singapore  Azure Storage to Mumbai, executing daily, weekly, and monthly migrations \n",
            "\n",
            "Internships \n",
            "\n",
            "Web Developer, Trivia Softwares \n",
            "\n",
            "Jan 2023  -  Mar 2023 \n",
            "\n",
            "•  Developed a polling app for users to host polls and visualize results with Matplotlib, utilizing Django templates for the front end and implementing \n",
            "\n",
            "user authentication \n",
            "\n",
            "•  Created a news display website aggregating news from multiple countries and a College Management system, leveraging Django ORM and REST \n",
            "\n",
            "framework for secure data management \n",
            "\n",
            "Data Scientist, The Sparks Foundation \n",
            "•  Executed a project predicting student marks using Machine Learning and Linear Regression, achieving over 90% accuracy in peer reviews and \n",
            "\n",
            "Jan 2021  -  Jan 2021 \n",
            "\n",
            "demonstrating proficiency with large datasets, NoSQL databases, and TensorFlow \n",
            "\n",
            "Masters in Computer Science \n",
            "\n",
            "New Jersey Institute of Technology \n",
            "\n",
            "•  Expected to Graduate in 2026 \n",
            "\n",
            "EDUCATION \n",
            "\n",
            "Jan 2018  -  Jan 2022 \n",
            "\n",
            "Bachelor of Engineering in Computer Engineering \n",
            "\n",
            "Jan 2018  -  Jan 2022 \n",
            "\n",
            "Terna Engineering College \n",
            "\n",
            "•  CGPA of 7.95 \n",
            "\n",
            "AWS DevOps Engineer - Professional  \n",
            "Python with Data Science \n",
            "\n",
            "CERTIFICATES \n",
            "\n",
            "Django Web Framework and REST API \n",
            "\n",
            " \n",
            " \n",
            " \n",
            " \n",
            " \n",
            " \n",
            " \n",
            " \n",
            " \n",
            "\f\n"
          ]
        }
      ]
    },
    {
      "cell_type": "code",
      "source": [
        "prompt_1 = \"From the given text extract all the skills and just given the mentioned skills in the text as output and nothing else. Also if the skills are repeated then give only one don't repeat them. Text: \"\n",
        "\n",
        "def get_skills(prompt, text):\n",
        "  prompt = prompt + text\n",
        "  return model.generate_content(prompt)\n",
        "skills = get_skills(prompt_1, text)\n",
        "\n",
        "prompt_2 = \"Given a resume, job title and a job description, extract and compare the required skills from both documents. First, identify all the skills mentioned in the job description, including technical, soft, and domain-specific skills. Then, extract all the skills from the resume. Compare the two sets of skills and identify the top 5 missing or underdeveloped skills in the resume that are crucial for the job described. Return these 5 skills along with a brief explanation of why they are necessary for the role.\"\n",
        "\n",
        "def custom_prompt(prompt, skills, job_title, job_description):\n",
        "  return prompt + \"\\n\" + \"Resume Skills: \" + skills + \"\\n\" + \"Job Title: \" + job_title + \"\\n\" + \"Job Description: \" + job_description\n",
        "\n",
        "job_title = \"Full stack developer\"\n",
        "job_description = \"Managing the complete software development process from conception to deployment. Maintaining and upgrading the software following deployment. Managing the end-to-end life cycle for the production of software and applications. Overseeing and guiding the analyzing, writing, building, and deployment of software. Overseeing the automated testing and providing feedback to management during the development process. Modifying and testing changes to previously developed programs\"\n",
        "\n",
        "prompt = custom_prompt(prompt_2, skills.text, job_title, job_description)\n",
        "#print(prompt)\n",
        "print(model.generate_content(prompt).text)"
      ],
      "metadata": {
        "colab": {
          "base_uri": "https://localhost:8080/",
          "height": 1000
        },
        "id": "mSuWxyMASorE",
        "outputId": "d01c1afa-7aeb-4a65-91e9-6245f919062b"
      },
      "execution_count": 33,
      "outputs": [
        {
          "output_type": "stream",
          "name": "stdout",
          "text": [
            "## Skills Analysis:\n",
            "\n",
            "**Job Description Skills:**\n",
            "\n",
            "* **Technical Skills:**\n",
            "    * Software Development\n",
            "    * Programming (general)\n",
            "    * Automated Testing\n",
            "    * Deployment\n",
            "    * CI/CD (implied)\n",
            "    * Version Control (implied)\n",
            "* **Soft Skills:**\n",
            "    * Communication (for feedback)\n",
            "    * Problem Solving\n",
            "    * Analytical Skills\n",
            "    * Teamwork (implied)\n",
            "    * Project Management (implied)\n",
            "\n",
            "**Resume Skills:**\n",
            "\n",
            "* **Technical Skills:**\n",
            "    * DevOps\n",
            "    * Software Development\n",
            "    * Django\n",
            "    * Data Science\n",
            "    * Scripting (Python, Shell, Bash)\n",
            "    * Automation\n",
            "    * Infrastructure Management\n",
            "    * Cloud Technologies (AWS, Google Cloud, Azure)\n",
            "    * CI/CD Pipelines\n",
            "    * Cloud Computing\n",
            "    * REST API Development\n",
            "    * SQL\n",
            "    * Container Orchestrations (Kubernetes, Docker, EKS, GKE)\n",
            "    * Machine Learning (Linear Regression, TensorFlow)\n",
            "    * NoSQL Databases (MongoDB)\n",
            "    * User Authentication\n",
            "    * Django Templates\n",
            "    * Django ORM\n",
            "    * REST Framework\n",
            "    * Git (GitHub, GitLab)\n",
            "    * Infrastructure as Code (CloudFormation, Terraform)\n",
            "    * Jenkins\n",
            "    * Amazon ECS\n",
            "    * AWS CodeCommit, CodeBuild, ECR\n",
            "    * Helm\n",
            "    * Docker Compose\n",
            "    * Amazon Elastic File System\n",
            "    * S3\n",
            "    * EC2\n",
            "    * GCP\n",
            "    * Amazon QuickSight\n",
            "    * Azure Storage\n",
            "* **Soft Skills:**\n",
            "    * Not explicitly mentioned, but implied by experience with project management tools (Jenkins, GitHub Actions) and certifications (AWS DevOps Engineer - Professional).\n",
            "\n",
            "## Missing or Underdeveloped Skills: \n",
            "\n",
            "Here are the top 5 skills missing or underdeveloped in the resume, crucial for a Full Stack Developer role:\n",
            "\n",
            "1. **Frontend Development:** The resume heavily focuses on backend and DevOps skills. It lacks any specific mention of frontend technologies like HTML, CSS, JavaScript, or popular frameworks like React, Angular, or Vue.js. This is essential for a full-stack developer to build the user interface and user experience of applications.\n",
            "2. **Database Design and Optimization:** While the resume mentions SQL and NoSQL databases, it doesn't explicitly showcase expertise in database design principles, normalization, query optimization, or specific database technologies relevant to full-stack development like PostgreSQL or MySQL. This is crucial for building efficient and scalable applications.\n",
            "3. **Testing Frameworks (Unit/Integration/End-to-End):** The resume mentions automated testing but lacks specific examples of testing frameworks like Jest, Mocha, or Selenium used for unit testing, integration testing, and end-to-end testing. This is vital for ensuring code quality and maintainability in a full-stack development environment. \n",
            "4. **API Design and Documentation:** While the resume mentions REST API development, it lacks specific details about API design principles, documentation tools (Swagger, OpenAPI), and experience with versioning and security measures for APIs.  This is essential for building robust and maintainable API integrations.\n",
            "5. **Performance Optimization:** The resume focuses on infrastructure management and cloud technologies, but lacks specific examples of optimizing web applications for performance.  This could include techniques like code profiling, caching strategies, asset optimization, or server-side rendering.  A full-stack developer needs to understand performance bottlenecks and how to improve application efficiency.\n",
            "\n",
            "**Explanation:**\n",
            "\n",
            "These skills are essential for a Full Stack Developer because they encompass the entire software development lifecycle, from front-end design and user experience to backend architecture, database management, and deployment. A full-stack developer needs a strong understanding of both front-end and back-end technologies to build complete and functional web applications.  Furthermore, knowledge of testing frameworks, API design, and performance optimization ensures that applications are well-structured, maintainable, and performant.\n",
            "\n"
          ]
        }
      ]
    },
    {
      "cell_type": "code",
      "source": [],
      "metadata": {
        "id": "JRWbok31ExCF"
      },
      "execution_count": null,
      "outputs": []
    }
  ]
}