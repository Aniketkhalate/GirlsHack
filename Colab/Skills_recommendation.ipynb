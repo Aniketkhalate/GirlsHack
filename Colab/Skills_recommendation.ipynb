{
  "nbformat": 4,
  "nbformat_minor": 0,
  "metadata": {
    "colab": {
      "provenance": []
    },
    "kernelspec": {
      "name": "python3",
      "display_name": "Python 3"
    },
    "language_info": {
      "name": "python"
    }
  },
  "cells": [
    {
      "cell_type": "code",
      "execution_count": 2,
      "metadata": {
        "id": "WZxRv_SJN282"
      },
      "outputs": [],
      "source": [
        "# Import the Python SDK\n",
        "import google.generativeai as genai\n",
        "# Used to securely store your API key\n",
        "from google.colab import userdata\n",
        "\n",
        "GOOGLE_API_KEY=userdata.get('Gemini')\n",
        "genai.configure(api_key=GOOGLE_API_KEY)"
      ]
    },
    {
      "cell_type": "code",
      "source": [
        "model = genai.GenerativeModel(\"gemini-1.5-flash\")"
      ],
      "metadata": {
        "id": "KYCrZb9QO_zJ"
      },
      "execution_count": 3,
      "outputs": []
    },
    {
      "cell_type": "code",
      "source": [
        "response = model.generate_content(\"Write a story about a magic backpack.\")\n",
        "print(response.text)"
      ],
      "metadata": {
        "colab": {
          "base_uri": "https://localhost:8080/",
          "height": 480
        },
        "id": "XtDFhlmQPDIs",
        "outputId": "57702de3-6cdb-4cc3-c674-ea13c6d67193"
      },
      "execution_count": 25,
      "outputs": [
        {
          "output_type": "stream",
          "name": "stdout",
          "text": [
            "Elara wasn’t looking for adventure. She was looking for a new backpack, one big enough for her textbooks and snacks for her long walk to school. The dusty, old shop, crammed with forgotten trinkets, was the last place she expected to find it. But there, nestled amongst moth-eaten scarves and chipped teacups, lay a backpack woven from leather as dark as midnight, shimmering with silver threads. \n",
            "\n",
            "It was heavy, almost impossibly so, for a bag made of such fine material. The shopkeeper, a wizened old man with eyes like polished amber, smiled knowingly as Elara hefted it. “That’s no ordinary bag, child,” he rasped, his voice like dry leaves rustling. \"That one holds magic.\"\n",
            "\n",
            "Elara scoffed, but she couldn't resist the allure of the mysterious backpack.  She paid for it, feeling a tingling sensation run up her arm as her fingers brushed against the silver threads.\n",
            "\n",
            "On her walk to school, Elara's initial skepticism crumbled.  The backpack seemed to float on her back, effortlessly carrying her heavy books. And then, as she walked past a park, the strangest thing happened. A gust of wind ruffled her hair, and the scent of freshly baked cookies filled the air.  \n",
            "\n",
            "She looked around, confused, but there was no bakery in sight. Then she felt a nudge against her back, and a warm, soft cookie tumbled into her hand. \n",
            "\n",
            "\"What in the world?\" she whispered, staring at the cookie. It was warm and perfect, with a chocolate chip smile.\n",
            "\n",
            "That day, the magic backpack continued to surprise Elara.  A pencil flew out when she needed one, a raincoat materialized when rain began to fall, and a book of poetry appeared just as she wished to read something beautiful. It was like having a personal genie, granting her wishes in the most unexpected ways.\n",
            "\n",
            "Word of Elara's magical backpack spread through school, and she became the envy of every student. But soon, the whispers turned to envy and then to greed. Kids started trying to steal the backpack, to pry its secrets. Elara found herself constantly guarding it, her once simple life transformed into a game of hide-and-seek with envious classmates.\n",
            "\n",
            "The pressure of keeping the backpack's secrets became overwhelming. Elara felt like she was living a lie, like her true self was hidden beneath the magic. One day, she decided she couldn't keep it anymore. \n",
            "\n",
            "She walked back to the dusty shop, her heart heavy.  The shopkeeper looked at her, his amber eyes filled with understanding. “It’s a heavy burden, child,” he said. “Magic can be a beautiful thing, but it can also be a dangerous one.”\n",
            "\n",
            "Elara, with tears in her eyes, handed him the backpack. The shopkeeper, a gentle smile on his face, took the backpack and whispered, \"Some magic is meant to be shared.\" He then placed it on a dusty shelf, where it shimmered among the forgotten trinkets, waiting for the next adventurer. \n",
            "\n",
            "Elara walked out of the shop, her backpack a simple, canvas one she had bought earlier that day. The magic was gone, but she felt lighter than she had in weeks. She knew that the true magic wasn't in the backpack, but in the heart of the person carrying it. And that was a magic she was ready to discover for herself. \n",
            "\n"
          ]
        }
      ]
    },
    {
      "cell_type": "code",
      "source": [
        "pip install pdfminer.six python-docx"
      ],
      "metadata": {
        "colab": {
          "base_uri": "https://localhost:8080/"
        },
        "id": "vZQaF1DvPI-R",
        "outputId": "edcaa066-8139-4a18-fbb5-70d58245b9c6"
      },
      "execution_count": 5,
      "outputs": [
        {
          "output_type": "stream",
          "name": "stdout",
          "text": [
            "Collecting pdfminer.six\n",
            "  Downloading pdfminer.six-20240706-py3-none-any.whl.metadata (4.1 kB)\n",
            "Collecting python-docx\n",
            "  Downloading python_docx-1.1.2-py3-none-any.whl.metadata (2.0 kB)\n",
            "Requirement already satisfied: charset-normalizer>=2.0.0 in /usr/local/lib/python3.10/dist-packages (from pdfminer.six) (3.3.2)\n",
            "Requirement already satisfied: cryptography>=36.0.0 in /usr/local/lib/python3.10/dist-packages (from pdfminer.six) (43.0.1)\n",
            "Requirement already satisfied: lxml>=3.1.0 in /usr/local/lib/python3.10/dist-packages (from python-docx) (4.9.4)\n",
            "Requirement already satisfied: typing-extensions>=4.9.0 in /usr/local/lib/python3.10/dist-packages (from python-docx) (4.12.2)\n",
            "Requirement already satisfied: cffi>=1.12 in /usr/local/lib/python3.10/dist-packages (from cryptography>=36.0.0->pdfminer.six) (1.17.1)\n",
            "Requirement already satisfied: pycparser in /usr/local/lib/python3.10/dist-packages (from cffi>=1.12->cryptography>=36.0.0->pdfminer.six) (2.22)\n",
            "Downloading pdfminer.six-20240706-py3-none-any.whl (5.6 MB)\n",
            "\u001b[2K   \u001b[90m━━━━━━━━━━━━━━━━━━━━━━━━━━━━━━━━━━━━━━━━\u001b[0m \u001b[32m5.6/5.6 MB\u001b[0m \u001b[31m44.4 MB/s\u001b[0m eta \u001b[36m0:00:00\u001b[0m\n",
            "\u001b[?25hDownloading python_docx-1.1.2-py3-none-any.whl (244 kB)\n",
            "\u001b[2K   \u001b[90m━━━━━━━━━━━━━━━━━━━━━━━━━━━━━━━━━━━━━━━━\u001b[0m \u001b[32m244.3/244.3 kB\u001b[0m \u001b[31m17.3 MB/s\u001b[0m eta \u001b[36m0:00:00\u001b[0m\n",
            "\u001b[?25hInstalling collected packages: python-docx, pdfminer.six\n",
            "Successfully installed pdfminer.six-20240706 python-docx-1.1.2\n"
          ]
        }
      ]
    },
    {
      "cell_type": "code",
      "source": [
        "import os\n",
        "import pdfminer\n",
        "import pdfminer.high_level\n",
        "from pdfminer.high_level import extract_text\n",
        "from docx import Document\n",
        "\n",
        "def extract_text_from_pdf(pdf_path):\n",
        "    return extract_text(pdf_path)\n",
        "\n",
        "def extract_text_from_docx(docx_path):\n",
        "    doc = Document(docx_path)\n",
        "    return '\\n'.join([para.text for para in doc.paragraphs])\n",
        "\n",
        "def extract_text_from_file(file_path):\n",
        "    _, ext = os.path.splitext(file_path)\n",
        "    if ext.lower() == '.pdf':\n",
        "        return extract_text_from_pdf(file_path)\n",
        "    elif ext.lower() == '.docx':\n",
        "        return extract_text_from_docx(file_path)\n",
        "    else:\n",
        "        raise ValueError(\"Unsupported file format\")\n",
        "\n",
        "\n",
        "if __name__ == \"__main__\":\n",
        "    file_path = './Resume.pdf'\n",
        "    try:\n",
        "        text = extract_text_from_file(file_path)\n",
        "        print(text)\n",
        "    except Exception as e:\n",
        "        print(f\"An error occurred: {e}\")"
      ],
      "metadata": {
        "colab": {
          "base_uri": "https://localhost:8080/"
        },
        "id": "tEUE02beRHcy",
        "outputId": "5bb5cc17-6e9f-4e62-8963-5168b77a678f"
      },
      "execution_count": 10,
      "outputs": [
        {
          "output_type": "stream",
          "name": "stdout",
          "text": [
            "MIHIR SHAKYARATAN KADAM \n",
            "\n",
            "+1(862)279-2555  +919819758408 \n",
            "\n",
            "mihirkadam85@yahoo.in   \n",
            "\n",
            "LinkedIn \n",
            "\n",
            "Newark, New Jersey, United States of America \n",
            "\n",
            "ABOUT ME \n",
            "Results-driven DevOps specialist with over a year of hands-on experience and a solid background in software development, particularly in Django and \n",
            "Data Science. Currently pursuing a Master’s in Computer Science at New Jersey Institute of Technology. Skilled in scripting, automation, infrastructure \n",
            "management, and cloud technologies, with expertise in CI/CD pipelines. Proven in integrating development and operations to optimize workflows and \n",
            "enhance project efficiency. Seeking to leverage strong communication skills and a passion for continuous learning in a dynamic DevOps environment. \n",
            "\n",
            "Cloud Computing (AWS, Google Cloud, Azure) \n",
            "Continuous Integration & Continuous Delivery  (GitHub Actions, Gitlab CI) \n",
            "Infrastructure as a Code and Automation (CloudFormation, Terraform) \n",
            "\n",
            "Python Programming and Scripting (Shell Scripting, Bash)  \n",
            "Django and REST API development (Python, SQL) \n",
            "Container Orchestrations (e.g. Kubernetes, Docker, EKS, GKE) \n",
            "\n",
            "STRENGTHS AND EXPERTISE \n",
            "\n",
            "PROFESSIONAL EXPERIENCE \n",
            "\n",
            "Associate Cloud Engineer \n",
            "\n",
            "Pentagon System and Services \n",
            "\n",
            "Jan 2023  -  Jan 2024 \n",
            "\n",
            "Mumbai, India \n",
            "\n",
            "•  Demonstrated proficiency by acquiring The Amazon Web Services Certified DevOps Engineer - Professional \n",
            "•  Achieved the prestigious AWS DevOps competency, recognizing advanced technical skills and proven success in delivering DevOps practices on AWS \n",
            "•  Earned AWS CloudFront Service Delivery Recognition, signifying proficiency in optimizing content delivery and enhancing web application \n",
            "\n",
            "performance within the AWS ecosystem \n",
            "\n",
            "•  Facilitated with  the Best New Comer MSP Team Award for exceptional performance in projects that showcased team collaboration and innovation \n",
            "Projects: \n",
            "•  Spearheaded the deployment of microservices on Amazon ECS, orchestrating a CI/CD pipeline with AWS CodeCommit, CodeBuild, and ECR, reducing \n",
            "\n",
            "deployment time to 3-5 minutes per microservice \n",
            "\n",
            "•  Deployed scalable Kubernetes infrastructure with 10+ microservices and 9 micro-frontend architecture in GKE Goole Cloud, developing dedicated \n",
            "\n",
            "Helm charts and integrating the cluster with GitHub Actions for CI/CD. \n",
            "\n",
            "•  Engineered an AWS EKS solution with Jenkins Pipeline and Amazon Elastic File System integration for up to 10  different pods \n",
            "•  Guided migration of Docker Compose deployment from Azure to AWS with partial CI/CD implementation using GitTea and Docker, managing 3 \n",
            "\n",
            "containers in the process \n",
            "\n",
            "•  Designed a comprehensive CI/CD solution for 6 applications on AWS, deploying backends to EC2 and frontends to S3 \n",
            "•  Streamlined deployment processes by creating a CloudFormation Template for Infrastructure as Code, enabling swift deployment of EC2 servers for \n",
            "\n",
            "MongoDB, RabbitMQ, Hangfire, and Jenkins, and AWS EKS significantly reducing deployment time to 40 minutes. \n",
            "\n",
            "•  Formed multiple Terraform and Python scripts to deploy resources in GCP for an Internal Hackathon for over 100 Teams \n",
            "•  Administered development of Python scripts to automate zipping large backup files and uploading them to S3, generating custom metrics for the \n",
            "\n",
            "process. Deployed the script on 10+ on-prem servers with customizations and visualized metrics in Amazon QuickSight \n",
            "\n",
            "•  Devised a Python script to transfer incremental backups from Singapore  Azure Storage to Mumbai, executing daily, weekly, and monthly migrations \n",
            "\n",
            "Internships \n",
            "\n",
            "Web Developer, Trivia Softwares \n",
            "\n",
            "Jan 2023  -  Mar 2023 \n",
            "\n",
            "•  Developed a polling app for users to host polls and visualize results with Matplotlib, utilizing Django templates for the front end and implementing \n",
            "\n",
            "user authentication \n",
            "\n",
            "•  Created a news display website aggregating news from multiple countries and a College Management system, leveraging Django ORM and REST \n",
            "\n",
            "framework for secure data management \n",
            "\n",
            "Data Scientist, The Sparks Foundation \n",
            "•  Executed a project predicting student marks using Machine Learning and Linear Regression, achieving over 90% accuracy in peer reviews and \n",
            "\n",
            "Jan 2021  -  Jan 2021 \n",
            "\n",
            "demonstrating proficiency with large datasets, NoSQL databases, and TensorFlow \n",
            "\n",
            "Masters in Computer Science \n",
            "\n",
            "New Jersey Institute of Technology \n",
            "\n",
            "•  Expected to Graduate in 2026 \n",
            "\n",
            "EDUCATION \n",
            "\n",
            "Jan 2018  -  Jan 2022 \n",
            "\n",
            "Bachelor of Engineering in Computer Engineering \n",
            "\n",
            "Jan 2018  -  Jan 2022 \n",
            "\n",
            "Terna Engineering College \n",
            "\n",
            "•  CGPA of 7.95 \n",
            "\n",
            "AWS DevOps Engineer - Professional  \n",
            "Python with Data Science \n",
            "\n",
            "CERTIFICATES \n",
            "\n",
            "Django Web Framework and REST API \n",
            "\n",
            " \n",
            " \n",
            " \n",
            " \n",
            " \n",
            " \n",
            " \n",
            " \n",
            " \n",
            "\f\n"
          ]
        }
      ]
    },
    {
      "cell_type": "code",
      "source": [
        "prompt_1 = \"From the given text extract all the skills and just given the mentioned skills in the text as output and nothing else. Also if the skills are repeated then give only one don't repeat them. Text: \"\n",
        "\n",
        "def get_skills(prompt, text):\n",
        "  prompt = prompt + text\n",
        "  return model.generate_content(prompt)\n",
        "skills = get_skills(prompt_1, text)\n",
        "\n",
        "prompt_2 = \"Given a resume and a job description, extract and compare the required skills from both documents. First, identify all the skills mentioned in the job description, including technical, soft, and domain-specific skills. Then, extract all the skills from the resume. Compare the two sets of skills and identify the top 5 missing or underdeveloped skills in the resume that are crucial for the job described. Return these 5 skills along with a brief explanation of why they are necessary for the role.\"\n",
        "\n",
        "def custom_prompt(prompt, text, job_description):\n",
        "  return prompt + \"\\n\" + \"Resume Skills: \" + text + \"\\n\" + \"Job Description: \" + job_description\n",
        "\n",
        "job_description = \"Full stack developer\"\n",
        "\n",
        "prompt = custom_prompt(prompt_2, skills.text, job_description)\n",
        "# print(prompt)\n",
        "print(model.generate_content(prompt).text)"
      ],
      "metadata": {
        "colab": {
          "base_uri": "https://localhost:8080/",
          "height": 1000
        },
        "id": "mSuWxyMASorE",
        "outputId": "1cd172d0-5faf-496a-eeed-fc8eae20f8f7"
      },
      "execution_count": 23,
      "outputs": [
        {
          "output_type": "stream",
          "name": "stdout",
          "text": [
            "## Skills Comparison and Missing Skills Analysis\n",
            "\n",
            "Here's a breakdown of the skills from the resume and job description, along with the top 5 missing skills:\n",
            "\n",
            "**Job Description Skills (Full Stack Developer):**\n",
            "\n",
            "* **Front-End Development:** HTML, CSS, JavaScript, React, Angular, Vue.js, UI/UX design principles\n",
            "* **Back-End Development:** Python, Node.js, Java, Ruby, PHP, SQL, NoSQL databases, REST APIs, Microservices, Authentication, Authorization\n",
            "* **Database Management:** SQL, NoSQL databases (e.g., MongoDB, Cassandra), Data Modeling\n",
            "* **Version Control:** Git\n",
            "* **Testing and Debugging:** Unit Testing, Integration Testing, Debugging tools\n",
            "* **Deployment and CI/CD:** Jenkins, Gitlab CI, Travis CI, Docker, Kubernetes\n",
            "* **Communication and Collaboration:** Teamwork, Agile methodologies, Stakeholder management\n",
            "\n",
            "**Resume Skills:**\n",
            "\n",
            "* **Technical Skills:**\n",
            "    * Programming Languages: Python, Shell Scripting, Bash\n",
            "    * Frameworks/Libraries: Django, REST Framework, TensorFlow, Matplotlib, MongoDB, RabbitMQ, Hangfire\n",
            "    * Cloud Platforms: AWS (EC2, ECS, CodeCommit, CodeBuild, ECR, CloudFront, S3, CloudFormation, EKS), Google Cloud (GKE, Kubernetes), Azure\n",
            "    * CI/CD Tools: GitHub Actions, Gitlab CI, Jenkins Pipeline\n",
            "    * Infrastructure Management: Docker, Kubernetes, Docker Compose, Helm Charts, Terraform\n",
            "    * Database Management: SQL, NoSQL (MongoDB)\n",
            "    * Other: REST API, Machine Learning, User Authentication, Microservices\n",
            "* **Soft Skills:** Communication Skills\n",
            "* **Certifications:** AWS Certified DevOps Engineer - Professional, AWS DevOps Competency, AWS CloudFront Service Delivery Recognition\n",
            "\n",
            "**Top 5 Missing Skills:**\n",
            "\n",
            "1. **Front-End Development:** The resume focuses heavily on backend and DevOps skills, but lacks any specific front-end technologies like HTML, CSS, JavaScript, React, Angular, or Vue.js.  Full stack developers need to be proficient in both front-end and back-end development.\n",
            "2. **JavaScript:** While the resume mentions front-end development through Django and React Framework, JavaScript is the core language for front-end development. It's essential for building interactive user interfaces and dynamic web applications.\n",
            "3. **UI/UX Design Principles:** Having a grasp of user interface and user experience design principles allows developers to create user-friendly and visually appealing websites and applications. This is crucial for providing a good user experience and making the application more engaging.\n",
            "4. **React, Angular, or Vue.js:**  These are popular JavaScript frameworks that simplify front-end development and help build complex web applications efficiently. The resume mentions React Framework, but it's unclear if it refers to the React library itself or the React Framework in Django.  \n",
            "5. **Testing and Debugging:** The resume mentions some aspects of testing and debugging (e.g., Machine Learning, Linear Regression), but a comprehensive understanding of unit testing, integration testing, and debugging tools like Chrome Developer Tools is necessary for writing robust and reliable code.\n",
            "\n",
            "**Explanation of Missing Skills:**\n",
            "\n",
            "* **Front-End Development and JavaScript:**  Full stack developers need to be able to create both the front-end (what users see) and the back-end (the server-side logic) of an application. Without front-end skills, the developer would be limited in their ability to build complete web applications.\n",
            "* **UI/UX Design Principles:**  Creating applications that are both functional and user-friendly is essential. Understanding UI/UX principles helps developers create intuitive interfaces and improve the overall user experience.\n",
            "* **React, Angular, or Vue.js:**  These frameworks are widely used in modern web development and can significantly improve development speed and code maintainability.  \n",
            "* **Testing and Debugging:** Thorough testing and debugging are crucial for finding and fixing errors in the code.  This ensures that applications function correctly and meet the required standards.\n",
            "\n",
            "**Recommendations:**\n",
            "\n",
            "To strengthen the candidate's profile for a full-stack developer position, it's recommended to:\n",
            "\n",
            "* **Gain experience in front-end technologies:** Focus on learning HTML, CSS, JavaScript, and one or more JavaScript frameworks like React, Angular, or Vue.js.\n",
            "* **Study UI/UX Design principles:**  Learn about user interface and user experience best practices to create intuitive and visually appealing designs. \n",
            "* **Practice unit testing and integration testing:**  Develop expertise in writing unit tests, integration tests, and using debugging tools to ensure code quality.\n",
            "* **Build projects that showcase front-end and back-end skills:**  Create projects that demonstrate proficiency in both front-end and back-end development, including UI/UX design and testing.\n",
            "\n",
            "By addressing these missing skills, the candidate will significantly improve their chances of securing a full stack developer position. \n",
            "\n"
          ]
        }
      ]
    },
    {
      "cell_type": "code",
      "source": [
        "res = model.generate_content()"
      ],
      "metadata": {
        "id": "igEzM_4lRLh-"
      },
      "execution_count": null,
      "outputs": []
    }
  ]
}